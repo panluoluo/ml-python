{
 "cells": [
  {
   "cell_type": "code",
   "execution_count": 1,
   "metadata": {},
   "outputs": [
    {
     "name": "stdout",
     "output_type": "stream",
     "text": [
      "Breast Cancer Wisconsin (Diagnostic) Database\n",
      "=============================================\n",
      "\n",
      "Notes\n",
      "-----\n",
      "Data Set Characteristics:\n",
      "    :Number of Instances: 569\n",
      "\n",
      "    :Number of Attributes: 30 numeric, predictive attributes and the class\n",
      "\n",
      "    :Attribute Information:\n",
      "        - radius (mean of distances from center to points on the perimeter)\n",
      "        - texture (standard deviation of gray-scale values)\n",
      "        - perimeter\n",
      "        - area\n",
      "        - smoothness (local variation in radius lengths)\n",
      "        - compactness (perimeter^2 / area - 1.0)\n",
      "        - concavity (severity of concave portions of the contour)\n",
      "        - concave points (number of concave portions of the contour)\n",
      "        - symmetry \n",
      "        - fractal dimension (\"coastline approximation\" - 1)\n",
      "\n",
      "        The mean, standard error, and \"worst\" or largest (mean of the three\n",
      "        largest values) of these features were computed for each image,\n",
      "        resulting in 30 features.  For instance, field 3 is Mean Radius, field\n",
      "        13 is Radius SE, field 23 is Worst Radius.\n",
      "\n",
      "        - class:\n",
      "                - WDBC-Malignant\n",
      "                - WDBC-Benign\n",
      "\n",
      "    :Summary Statistics:\n",
      "\n",
      "    ===================================== ====== ======\n",
      "                                           Min    Max\n",
      "    ===================================== ====== ======\n",
      "    radius (mean):                        6.981  28.11\n",
      "    texture (mean):                       9.71   39.28\n",
      "    perimeter (mean):                     43.79  188.5\n",
      "    area (mean):                          143.5  2501.0\n",
      "    smoothness (mean):                    0.053  0.163\n",
      "    compactness (mean):                   0.019  0.345\n",
      "    concavity (mean):                     0.0    0.427\n",
      "    concave points (mean):                0.0    0.201\n",
      "    symmetry (mean):                      0.106  0.304\n",
      "    fractal dimension (mean):             0.05   0.097\n",
      "    radius (standard error):              0.112  2.873\n",
      "    texture (standard error):             0.36   4.885\n",
      "    perimeter (standard error):           0.757  21.98\n",
      "    area (standard error):                6.802  542.2\n",
      "    smoothness (standard error):          0.002  0.031\n",
      "    compactness (standard error):         0.002  0.135\n",
      "    concavity (standard error):           0.0    0.396\n",
      "    concave points (standard error):      0.0    0.053\n",
      "    symmetry (standard error):            0.008  0.079\n",
      "    fractal dimension (standard error):   0.001  0.03\n",
      "    radius (worst):                       7.93   36.04\n",
      "    texture (worst):                      12.02  49.54\n",
      "    perimeter (worst):                    50.41  251.2\n",
      "    area (worst):                         185.2  4254.0\n",
      "    smoothness (worst):                   0.071  0.223\n",
      "    compactness (worst):                  0.027  1.058\n",
      "    concavity (worst):                    0.0    1.252\n",
      "    concave points (worst):               0.0    0.291\n",
      "    symmetry (worst):                     0.156  0.664\n",
      "    fractal dimension (worst):            0.055  0.208\n",
      "    ===================================== ====== ======\n",
      "\n",
      "    :Missing Attribute Values: None\n",
      "\n",
      "    :Class Distribution: 212 - Malignant, 357 - Benign\n",
      "\n",
      "    :Creator:  Dr. William H. Wolberg, W. Nick Street, Olvi L. Mangasarian\n",
      "\n",
      "    :Donor: Nick Street\n",
      "\n",
      "    :Date: November, 1995\n",
      "\n",
      "This is a copy of UCI ML Breast Cancer Wisconsin (Diagnostic) datasets.\n",
      "https://goo.gl/U2Uwz2\n",
      "\n",
      "Features are computed from a digitized image of a fine needle\n",
      "aspirate (FNA) of a breast mass.  They describe\n",
      "characteristics of the cell nuclei present in the image.\n",
      "\n",
      "Separating plane described above was obtained using\n",
      "Multisurface Method-Tree (MSM-T) [K. P. Bennett, \"Decision Tree\n",
      "Construction Via Linear Programming.\" Proceedings of the 4th\n",
      "Midwest Artificial Intelligence and Cognitive Science Society,\n",
      "pp. 97-101, 1992], a classification method which uses linear\n",
      "programming to construct a decision tree.  Relevant features\n",
      "were selected using an exhaustive search in the space of 1-4\n",
      "features and 1-3 separating planes.\n",
      "\n",
      "The actual linear program used to obtain the separating plane\n",
      "in the 3-dimensional space is that described in:\n",
      "[K. P. Bennett and O. L. Mangasarian: \"Robust Linear\n",
      "Programming Discrimination of Two Linearly Inseparable Sets\",\n",
      "Optimization Methods and Software 1, 1992, 23-34].\n",
      "\n",
      "This database is also available through the UW CS ftp server:\n",
      "\n",
      "ftp ftp.cs.wisc.edu\n",
      "cd math-prog/cpo-dataset/machine-learn/WDBC/\n",
      "\n",
      "References\n",
      "----------\n",
      "   - W.N. Street, W.H. Wolberg and O.L. Mangasarian. Nuclear feature extraction \n",
      "     for breast tumor diagnosis. IS&T/SPIE 1993 International Symposium on \n",
      "     Electronic Imaging: Science and Technology, volume 1905, pages 861-870,\n",
      "     San Jose, CA, 1993.\n",
      "   - O.L. Mangasarian, W.N. Street and W.H. Wolberg. Breast cancer diagnosis and \n",
      "     prognosis via linear programming. Operations Research, 43(4), pages 570-577, \n",
      "     July-August 1995.\n",
      "   - W.H. Wolberg, W.N. Street, and O.L. Mangasarian. Machine learning techniques\n",
      "     to diagnose breast cancer from fine-needle aspirates. Cancer Letters 77 (1994) \n",
      "     163-171.\n",
      "\n"
     ]
    }
   ],
   "source": [
    "from sklearn.datasets import load_breast_cancer\n",
    "cancer = load_breast_cancer()\n",
    "print(cancer.DESCR)"
   ]
  },
  {
   "cell_type": "code",
   "execution_count": 2,
   "metadata": {
    "collapsed": true
   },
   "outputs": [],
   "source": [
    "X = cancer.data\n",
    "y = cancer.target"
   ]
  },
  {
   "cell_type": "code",
   "execution_count": 3,
   "metadata": {
    "collapsed": true
   },
   "outputs": [],
   "source": [
    "from sklearn.model_selection import train_test_split\n",
    "X_train, X_test, y_train, y_test = train_test_split(X, y, test_size=0.2, random_state=33)"
   ]
  },
  {
   "cell_type": "code",
   "execution_count": 4,
   "metadata": {},
   "outputs": [
    {
     "data": {
      "text/plain": [
       "0.94736842105263153"
      ]
     },
     "execution_count": 4,
     "metadata": {},
     "output_type": "execute_result"
    }
   ],
   "source": [
    "from sklearn.linear_model import LogisticRegression\n",
    "\n",
    "model = LogisticRegression()\n",
    "model.fit(X_train, y_train)\n",
    "model.score(X_test, y_test)"
   ]
  },
  {
   "cell_type": "code",
   "execution_count": 5,
   "metadata": {},
   "outputs": [
    {
     "data": {
      "text/plain": [
       "array([0, 1, 1, 1, 1, 1, 1, 1, 1, 1, 1, 0, 1, 1, 1, 0, 1, 1, 1, 1, 0, 1, 1,\n",
       "       1, 0, 0, 0, 1, 0, 1, 1, 1, 0, 1, 1, 0, 0, 1, 1, 1, 1, 1, 1, 1, 1, 1,\n",
       "       1, 1, 1, 1, 1, 0, 1, 1, 1, 1, 1, 0, 1, 1, 0, 0, 1, 0, 1, 1, 1, 1, 1,\n",
       "       0, 1, 1, 1, 0, 0, 0, 0, 0, 0, 1, 0, 1, 1, 0, 1, 0, 1, 0, 0, 1, 1, 0,\n",
       "       0, 1, 0, 0, 1, 0, 1, 1, 0, 1, 1, 1, 1, 0, 1, 0, 1, 0, 1, 0, 1, 0])"
      ]
     },
     "execution_count": 5,
     "metadata": {},
     "output_type": "execute_result"
    }
   ],
   "source": [
    "import numpy as np\n",
    "\n",
    "y_pred = model.predict(X_test)\n",
    "y_pred"
   ]
  },
  {
   "cell_type": "code",
   "execution_count": 9,
   "metadata": {},
   "outputs": [
    {
     "data": {
      "text/plain": [
       "108"
      ]
     },
     "execution_count": 9,
     "metadata": {},
     "output_type": "execute_result"
    }
   ],
   "source": [
    "np.equal(y_pred, y_test).sum()"
   ]
  },
  {
   "cell_type": "code",
   "execution_count": 10,
   "metadata": {},
   "outputs": [
    {
     "data": {
      "text/plain": [
       "array([[  9.99870086e-01,   1.29914017e-04],\n",
       "       [  8.21078113e-03,   9.91789219e-01],\n",
       "       [  4.44679091e-03,   9.95553209e-01],\n",
       "       [  3.90436713e-02,   9.60956329e-01],\n",
       "       [  2.02290224e-01,   7.97709776e-01],\n",
       "       [  1.19411345e-01,   8.80588655e-01],\n",
       "       [  3.56184777e-04,   9.99643815e-01],\n",
       "       [  4.34084961e-04,   9.99565915e-01],\n",
       "       [  3.07807183e-03,   9.96921928e-01],\n",
       "       [  5.06056863e-03,   9.94939431e-01],\n",
       "       [  1.89211609e-03,   9.98107884e-01],\n",
       "       [  9.96615038e-01,   3.38496170e-03],\n",
       "       [  2.63741456e-04,   9.99736259e-01],\n",
       "       [  4.76529727e-01,   5.23470273e-01],\n",
       "       [  1.22182602e-02,   9.87781740e-01],\n",
       "       [  9.89551742e-01,   1.04482583e-02],\n",
       "       [  4.15328877e-02,   9.58467112e-01],\n",
       "       [  5.86926899e-03,   9.94130731e-01],\n",
       "       [  8.29514594e-03,   9.91704854e-01],\n",
       "       [  7.22185901e-02,   9.27781410e-01],\n",
       "       [  8.18891404e-01,   1.81108596e-01],\n",
       "       [  3.14610383e-04,   9.99685390e-01],\n",
       "       [  7.14798112e-04,   9.99285202e-01],\n",
       "       [  1.35348379e-02,   9.86465162e-01],\n",
       "       [  1.00000000e+00,   4.68055673e-10],\n",
       "       [  9.99999311e-01,   6.89409226e-07],\n",
       "       [  9.99757337e-01,   2.42663018e-04],\n",
       "       [  1.41706032e-01,   8.58293968e-01],\n",
       "       [  9.64760335e-01,   3.52396650e-02],\n",
       "       [  2.03598439e-03,   9.97964016e-01],\n",
       "       [  3.84388110e-01,   6.15611890e-01],\n",
       "       [  1.17379465e-03,   9.98826205e-01],\n",
       "       [  6.17896872e-01,   3.82103128e-01],\n",
       "       [  3.23481281e-02,   9.67651872e-01],\n",
       "       [  1.06247250e-03,   9.98937528e-01],\n",
       "       [  9.90809565e-01,   9.19043491e-03],\n",
       "       [  9.99999996e-01,   3.71447991e-09],\n",
       "       [  2.20980847e-03,   9.97790192e-01],\n",
       "       [  1.58831346e-02,   9.84116865e-01],\n",
       "       [  4.38265825e-03,   9.95617342e-01],\n",
       "       [  3.18881632e-01,   6.81118368e-01],\n",
       "       [  3.70837663e-04,   9.99629162e-01],\n",
       "       [  2.31150282e-03,   9.97688497e-01],\n",
       "       [  1.25740629e-02,   9.87425937e-01],\n",
       "       [  3.06187150e-03,   9.96938129e-01],\n",
       "       [  4.37180724e-02,   9.56281928e-01],\n",
       "       [  8.14609581e-02,   9.18539042e-01],\n",
       "       [  1.50702110e-01,   8.49297890e-01],\n",
       "       [  1.25246480e-02,   9.87475352e-01],\n",
       "       [  3.71893958e-03,   9.96281060e-01],\n",
       "       [  2.92542326e-03,   9.97074577e-01],\n",
       "       [  9.99965925e-01,   3.40752564e-05],\n",
       "       [  8.03435142e-04,   9.99196565e-01],\n",
       "       [  8.20567264e-02,   9.17943274e-01],\n",
       "       [  1.07144582e-02,   9.89285542e-01],\n",
       "       [  5.56496224e-03,   9.94435038e-01],\n",
       "       [  1.06223698e-02,   9.89377630e-01],\n",
       "       [  1.00000000e+00,   4.93756635e-20],\n",
       "       [  1.91814370e-03,   9.98081856e-01],\n",
       "       [  3.32600246e-04,   9.99667400e-01],\n",
       "       [  9.99999760e-01,   2.39799787e-07],\n",
       "       [  6.58101201e-01,   3.41898799e-01],\n",
       "       [  1.50285725e-02,   9.84971428e-01],\n",
       "       [  1.00000000e+00,   1.03796407e-11],\n",
       "       [  2.91950412e-02,   9.70804959e-01],\n",
       "       [  1.92298974e-03,   9.98077010e-01],\n",
       "       [  1.79305103e-02,   9.82069490e-01],\n",
       "       [  7.81173115e-02,   9.21882689e-01],\n",
       "       [  9.74708787e-03,   9.90252912e-01],\n",
       "       [  9.99999935e-01,   6.47825601e-08],\n",
       "       [  8.69110180e-04,   9.99130890e-01],\n",
       "       [  9.36524546e-04,   9.99063475e-01],\n",
       "       [  4.41722363e-03,   9.95582776e-01],\n",
       "       [  1.00000000e+00,   3.28545062e-10],\n",
       "       [  9.99977563e-01,   2.24373535e-05],\n",
       "       [  9.00190051e-01,   9.98099491e-02],\n",
       "       [  9.99999996e-01,   4.47294180e-09],\n",
       "       [  9.68226604e-01,   3.17733962e-02],\n",
       "       [  9.99999998e-01,   1.62184154e-09],\n",
       "       [  3.59089968e-04,   9.99640910e-01],\n",
       "       [  9.99308012e-01,   6.91987787e-04],\n",
       "       [  1.28669152e-02,   9.87133085e-01],\n",
       "       [  4.68375995e-02,   9.53162401e-01],\n",
       "       [  9.55611891e-01,   4.43881087e-02],\n",
       "       [  3.71379528e-03,   9.96286205e-01],\n",
       "       [  9.99956799e-01,   4.32010016e-05],\n",
       "       [  2.57239143e-01,   7.42760857e-01],\n",
       "       [  9.95443978e-01,   4.55602163e-03],\n",
       "       [  8.26770928e-01,   1.73229072e-01],\n",
       "       [  5.24359078e-03,   9.94756409e-01],\n",
       "       [  1.56624141e-02,   9.84337586e-01],\n",
       "       [  9.99994603e-01,   5.39729096e-06],\n",
       "       [  9.97008321e-01,   2.99167870e-03],\n",
       "       [  7.09111315e-03,   9.92908887e-01],\n",
       "       [  9.83229022e-01,   1.67709781e-02],\n",
       "       [  8.88568798e-01,   1.11431202e-01],\n",
       "       [  3.87303202e-02,   9.61269680e-01],\n",
       "       [  9.99999999e-01,   9.27251261e-10],\n",
       "       [  8.90907031e-02,   9.10909297e-01],\n",
       "       [  2.06128675e-03,   9.97938713e-01],\n",
       "       [  8.99482304e-01,   1.00517696e-01],\n",
       "       [  5.44754001e-04,   9.99455246e-01],\n",
       "       [  7.58986225e-03,   9.92410138e-01],\n",
       "       [  7.32859138e-05,   9.99926714e-01],\n",
       "       [  9.02561108e-03,   9.90974389e-01],\n",
       "       [  1.00000000e+00,   1.26839137e-18],\n",
       "       [  1.09745899e-02,   9.89025410e-01],\n",
       "       [  9.99847112e-01,   1.52887933e-04],\n",
       "       [  1.76627195e-01,   8.23372805e-01],\n",
       "       [  1.00000000e+00,   3.02020325e-14],\n",
       "       [  3.62044485e-02,   9.63795552e-01],\n",
       "       [  1.00000000e+00,   4.65107848e-10],\n",
       "       [  1.02663472e-02,   9.89733653e-01],\n",
       "       [  9.99958829e-01,   4.11712295e-05]])"
      ]
     },
     "execution_count": 10,
     "metadata": {},
     "output_type": "execute_result"
    }
   ],
   "source": [
    "model.predict_proba(X_test)"
   ]
  },
  {
   "cell_type": "code",
   "execution_count": 11,
   "metadata": {},
   "outputs": [
    {
     "data": {
      "text/plain": [
       "0.95614035087719296"
      ]
     },
     "execution_count": 11,
     "metadata": {},
     "output_type": "execute_result"
    }
   ],
   "source": [
    "model2 = LogisticRegression(penalty='l1')\n",
    "model2.fit(X_train, y_train)\n",
    "model2.score(X_test, y_test)"
   ]
  },
  {
   "cell_type": "code",
   "execution_count": 12,
   "metadata": {},
   "outputs": [
    {
     "data": {
      "text/plain": [
       "array([ 0.])"
      ]
     },
     "execution_count": 12,
     "metadata": {},
     "output_type": "execute_result"
    }
   ],
   "source": [
    "model2.intercept_"
   ]
  },
  {
   "cell_type": "code",
   "execution_count": 13,
   "metadata": {},
   "outputs": [
    {
     "data": {
      "text/plain": [
       "array([[ 5.17288619,  0.07607999, -0.38748994, -0.01204708,  0.        ,\n",
       "         0.        ,  0.        ,  0.        ,  0.        ,  0.        ,\n",
       "         0.        ,  1.29290214,  0.        , -0.03524823,  0.        ,\n",
       "         0.        ,  0.        ,  0.        ,  0.        ,  0.        ,\n",
       "         0.        , -0.31945715, -0.05263915, -0.02032057,  0.        ,\n",
       "         0.        , -2.89441951,  0.        ,  0.        ,  0.        ]])"
      ]
     },
     "execution_count": 13,
     "metadata": {},
     "output_type": "execute_result"
    }
   ],
   "source": [
    "model2.coef_"
   ]
  },
  {
   "cell_type": "code",
   "execution_count": null,
   "metadata": {
    "collapsed": true
   },
   "outputs": [],
   "source": []
  }
 ],
 "metadata": {
  "kernelspec": {
   "display_name": "Python 3",
   "language": "python",
   "name": "python3"
  },
  "language_info": {
   "codemirror_mode": {
    "name": "ipython",
    "version": 3
   },
   "file_extension": ".py",
   "mimetype": "text/x-python",
   "name": "python",
   "nbconvert_exporter": "python",
   "pygments_lexer": "ipython3",
   "version": "3.6.3"
  }
 },
 "nbformat": 4,
 "nbformat_minor": 2
}
