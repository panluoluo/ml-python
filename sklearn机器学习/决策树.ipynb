{
 "cells": [
  {
   "cell_type": "code",
   "execution_count": 1,
   "metadata": {
    "collapsed": true
   },
   "outputs": [],
   "source": [
    "import numpy as np\n",
    "import pandas as pd"
   ]
  },
  {
   "cell_type": "code",
   "execution_count": 5,
   "metadata": {
    "collapsed": true
   },
   "outputs": [],
   "source": [
    "df = pd.read_csv('data/titanic/train.csv',index_col=0)"
   ]
  },
  {
   "cell_type": "code",
   "execution_count": 6,
   "metadata": {},
   "outputs": [
    {
     "data": {
      "text/html": [
       "<div>\n",
       "<style>\n",
       "    .dataframe thead tr:only-child th {\n",
       "        text-align: right;\n",
       "    }\n",
       "\n",
       "    .dataframe thead th {\n",
       "        text-align: left;\n",
       "    }\n",
       "\n",
       "    .dataframe tbody tr th {\n",
       "        vertical-align: top;\n",
       "    }\n",
       "</style>\n",
       "<table border=\"1\" class=\"dataframe\">\n",
       "  <thead>\n",
       "    <tr style=\"text-align: right;\">\n",
       "      <th></th>\n",
       "      <th>Survived</th>\n",
       "      <th>Pclass</th>\n",
       "      <th>Name</th>\n",
       "      <th>Sex</th>\n",
       "      <th>Age</th>\n",
       "      <th>SibSp</th>\n",
       "      <th>Parch</th>\n",
       "      <th>Ticket</th>\n",
       "      <th>Fare</th>\n",
       "      <th>Cabin</th>\n",
       "      <th>Embarked</th>\n",
       "    </tr>\n",
       "    <tr>\n",
       "      <th>PassengerId</th>\n",
       "      <th></th>\n",
       "      <th></th>\n",
       "      <th></th>\n",
       "      <th></th>\n",
       "      <th></th>\n",
       "      <th></th>\n",
       "      <th></th>\n",
       "      <th></th>\n",
       "      <th></th>\n",
       "      <th></th>\n",
       "      <th></th>\n",
       "    </tr>\n",
       "  </thead>\n",
       "  <tbody>\n",
       "    <tr>\n",
       "      <th>1</th>\n",
       "      <td>0</td>\n",
       "      <td>3</td>\n",
       "      <td>Braund, Mr. Owen Harris</td>\n",
       "      <td>male</td>\n",
       "      <td>22.0</td>\n",
       "      <td>1</td>\n",
       "      <td>0</td>\n",
       "      <td>A/5 21171</td>\n",
       "      <td>7.2500</td>\n",
       "      <td>NaN</td>\n",
       "      <td>S</td>\n",
       "    </tr>\n",
       "    <tr>\n",
       "      <th>2</th>\n",
       "      <td>1</td>\n",
       "      <td>1</td>\n",
       "      <td>Cumings, Mrs. John Bradley (Florence Briggs Th...</td>\n",
       "      <td>female</td>\n",
       "      <td>38.0</td>\n",
       "      <td>1</td>\n",
       "      <td>0</td>\n",
       "      <td>PC 17599</td>\n",
       "      <td>71.2833</td>\n",
       "      <td>C85</td>\n",
       "      <td>C</td>\n",
       "    </tr>\n",
       "    <tr>\n",
       "      <th>3</th>\n",
       "      <td>1</td>\n",
       "      <td>3</td>\n",
       "      <td>Heikkinen, Miss. Laina</td>\n",
       "      <td>female</td>\n",
       "      <td>26.0</td>\n",
       "      <td>0</td>\n",
       "      <td>0</td>\n",
       "      <td>STON/O2. 3101282</td>\n",
       "      <td>7.9250</td>\n",
       "      <td>NaN</td>\n",
       "      <td>S</td>\n",
       "    </tr>\n",
       "    <tr>\n",
       "      <th>4</th>\n",
       "      <td>1</td>\n",
       "      <td>1</td>\n",
       "      <td>Futrelle, Mrs. Jacques Heath (Lily May Peel)</td>\n",
       "      <td>female</td>\n",
       "      <td>35.0</td>\n",
       "      <td>1</td>\n",
       "      <td>0</td>\n",
       "      <td>113803</td>\n",
       "      <td>53.1000</td>\n",
       "      <td>C123</td>\n",
       "      <td>S</td>\n",
       "    </tr>\n",
       "    <tr>\n",
       "      <th>5</th>\n",
       "      <td>0</td>\n",
       "      <td>3</td>\n",
       "      <td>Allen, Mr. William Henry</td>\n",
       "      <td>male</td>\n",
       "      <td>35.0</td>\n",
       "      <td>0</td>\n",
       "      <td>0</td>\n",
       "      <td>373450</td>\n",
       "      <td>8.0500</td>\n",
       "      <td>NaN</td>\n",
       "      <td>S</td>\n",
       "    </tr>\n",
       "  </tbody>\n",
       "</table>\n",
       "</div>"
      ],
      "text/plain": [
       "             Survived  Pclass  \\\n",
       "PassengerId                     \n",
       "1                   0       3   \n",
       "2                   1       1   \n",
       "3                   1       3   \n",
       "4                   1       1   \n",
       "5                   0       3   \n",
       "\n",
       "                                                          Name     Sex   Age  \\\n",
       "PassengerId                                                                    \n",
       "1                                      Braund, Mr. Owen Harris    male  22.0   \n",
       "2            Cumings, Mrs. John Bradley (Florence Briggs Th...  female  38.0   \n",
       "3                                       Heikkinen, Miss. Laina  female  26.0   \n",
       "4                 Futrelle, Mrs. Jacques Heath (Lily May Peel)  female  35.0   \n",
       "5                                     Allen, Mr. William Henry    male  35.0   \n",
       "\n",
       "             SibSp  Parch            Ticket     Fare Cabin Embarked  \n",
       "PassengerId                                                          \n",
       "1                1      0         A/5 21171   7.2500   NaN        S  \n",
       "2                1      0          PC 17599  71.2833   C85        C  \n",
       "3                0      0  STON/O2. 3101282   7.9250   NaN        S  \n",
       "4                1      0            113803  53.1000  C123        S  \n",
       "5                0      0            373450   8.0500   NaN        S  "
      ]
     },
     "execution_count": 6,
     "metadata": {},
     "output_type": "execute_result"
    }
   ],
   "source": [
    "df.head()"
   ]
  },
  {
   "cell_type": "code",
   "execution_count": 7,
   "metadata": {},
   "outputs": [
    {
     "data": {
      "text/html": [
       "<div>\n",
       "<style>\n",
       "    .dataframe thead tr:only-child th {\n",
       "        text-align: right;\n",
       "    }\n",
       "\n",
       "    .dataframe thead th {\n",
       "        text-align: left;\n",
       "    }\n",
       "\n",
       "    .dataframe tbody tr th {\n",
       "        vertical-align: top;\n",
       "    }\n",
       "</style>\n",
       "<table border=\"1\" class=\"dataframe\">\n",
       "  <thead>\n",
       "    <tr style=\"text-align: right;\">\n",
       "      <th></th>\n",
       "      <th>Survived</th>\n",
       "      <th>Pclass</th>\n",
       "      <th>Sex</th>\n",
       "      <th>Age</th>\n",
       "      <th>SibSp</th>\n",
       "      <th>Parch</th>\n",
       "      <th>Fare</th>\n",
       "      <th>Embarked</th>\n",
       "    </tr>\n",
       "    <tr>\n",
       "      <th>PassengerId</th>\n",
       "      <th></th>\n",
       "      <th></th>\n",
       "      <th></th>\n",
       "      <th></th>\n",
       "      <th></th>\n",
       "      <th></th>\n",
       "      <th></th>\n",
       "      <th></th>\n",
       "    </tr>\n",
       "  </thead>\n",
       "  <tbody>\n",
       "    <tr>\n",
       "      <th>1</th>\n",
       "      <td>0</td>\n",
       "      <td>3</td>\n",
       "      <td>male</td>\n",
       "      <td>22.0</td>\n",
       "      <td>1</td>\n",
       "      <td>0</td>\n",
       "      <td>7.2500</td>\n",
       "      <td>S</td>\n",
       "    </tr>\n",
       "    <tr>\n",
       "      <th>2</th>\n",
       "      <td>1</td>\n",
       "      <td>1</td>\n",
       "      <td>female</td>\n",
       "      <td>38.0</td>\n",
       "      <td>1</td>\n",
       "      <td>0</td>\n",
       "      <td>71.2833</td>\n",
       "      <td>C</td>\n",
       "    </tr>\n",
       "    <tr>\n",
       "      <th>3</th>\n",
       "      <td>1</td>\n",
       "      <td>3</td>\n",
       "      <td>female</td>\n",
       "      <td>26.0</td>\n",
       "      <td>0</td>\n",
       "      <td>0</td>\n",
       "      <td>7.9250</td>\n",
       "      <td>S</td>\n",
       "    </tr>\n",
       "    <tr>\n",
       "      <th>4</th>\n",
       "      <td>1</td>\n",
       "      <td>1</td>\n",
       "      <td>female</td>\n",
       "      <td>35.0</td>\n",
       "      <td>1</td>\n",
       "      <td>0</td>\n",
       "      <td>53.1000</td>\n",
       "      <td>S</td>\n",
       "    </tr>\n",
       "    <tr>\n",
       "      <th>5</th>\n",
       "      <td>0</td>\n",
       "      <td>3</td>\n",
       "      <td>male</td>\n",
       "      <td>35.0</td>\n",
       "      <td>0</td>\n",
       "      <td>0</td>\n",
       "      <td>8.0500</td>\n",
       "      <td>S</td>\n",
       "    </tr>\n",
       "  </tbody>\n",
       "</table>\n",
       "</div>"
      ],
      "text/plain": [
       "             Survived  Pclass     Sex   Age  SibSp  Parch     Fare Embarked\n",
       "PassengerId                                                                \n",
       "1                   0       3    male  22.0      1      0   7.2500        S\n",
       "2                   1       1  female  38.0      1      0  71.2833        C\n",
       "3                   1       3  female  26.0      0      0   7.9250        S\n",
       "4                   1       1  female  35.0      1      0  53.1000        S\n",
       "5                   0       3    male  35.0      0      0   8.0500        S"
      ]
     },
     "execution_count": 7,
     "metadata": {},
     "output_type": "execute_result"
    }
   ],
   "source": [
    "df.drop(['Name', 'Ticket', 'Cabin'], axis=1, inplace=True)\n",
    "df.head()"
   ]
  },
  {
   "cell_type": "code",
   "execution_count": 8,
   "metadata": {
    "collapsed": true
   },
   "outputs": [],
   "source": [
    "def f1(x):\n",
    "    if x == 'male':\n",
    "        return 1\n",
    "    else:\n",
    "        return 0"
   ]
  },
  {
   "cell_type": "code",
   "execution_count": 9,
   "metadata": {
    "collapsed": true
   },
   "outputs": [],
   "source": [
    "df['Sex'] = df['Sex'].apply(f1)"
   ]
  },
  {
   "cell_type": "code",
   "execution_count": 10,
   "metadata": {},
   "outputs": [
    {
     "data": {
      "text/html": [
       "<div>\n",
       "<style>\n",
       "    .dataframe thead tr:only-child th {\n",
       "        text-align: right;\n",
       "    }\n",
       "\n",
       "    .dataframe thead th {\n",
       "        text-align: left;\n",
       "    }\n",
       "\n",
       "    .dataframe tbody tr th {\n",
       "        vertical-align: top;\n",
       "    }\n",
       "</style>\n",
       "<table border=\"1\" class=\"dataframe\">\n",
       "  <thead>\n",
       "    <tr style=\"text-align: right;\">\n",
       "      <th></th>\n",
       "      <th>Survived</th>\n",
       "      <th>Pclass</th>\n",
       "      <th>Sex</th>\n",
       "      <th>Age</th>\n",
       "      <th>SibSp</th>\n",
       "      <th>Parch</th>\n",
       "      <th>Fare</th>\n",
       "      <th>Embarked</th>\n",
       "    </tr>\n",
       "    <tr>\n",
       "      <th>PassengerId</th>\n",
       "      <th></th>\n",
       "      <th></th>\n",
       "      <th></th>\n",
       "      <th></th>\n",
       "      <th></th>\n",
       "      <th></th>\n",
       "      <th></th>\n",
       "      <th></th>\n",
       "    </tr>\n",
       "  </thead>\n",
       "  <tbody>\n",
       "    <tr>\n",
       "      <th>1</th>\n",
       "      <td>0</td>\n",
       "      <td>3</td>\n",
       "      <td>1</td>\n",
       "      <td>22.0</td>\n",
       "      <td>1</td>\n",
       "      <td>0</td>\n",
       "      <td>7.2500</td>\n",
       "      <td>S</td>\n",
       "    </tr>\n",
       "    <tr>\n",
       "      <th>2</th>\n",
       "      <td>1</td>\n",
       "      <td>1</td>\n",
       "      <td>0</td>\n",
       "      <td>38.0</td>\n",
       "      <td>1</td>\n",
       "      <td>0</td>\n",
       "      <td>71.2833</td>\n",
       "      <td>C</td>\n",
       "    </tr>\n",
       "    <tr>\n",
       "      <th>3</th>\n",
       "      <td>1</td>\n",
       "      <td>3</td>\n",
       "      <td>0</td>\n",
       "      <td>26.0</td>\n",
       "      <td>0</td>\n",
       "      <td>0</td>\n",
       "      <td>7.9250</td>\n",
       "      <td>S</td>\n",
       "    </tr>\n",
       "    <tr>\n",
       "      <th>4</th>\n",
       "      <td>1</td>\n",
       "      <td>1</td>\n",
       "      <td>0</td>\n",
       "      <td>35.0</td>\n",
       "      <td>1</td>\n",
       "      <td>0</td>\n",
       "      <td>53.1000</td>\n",
       "      <td>S</td>\n",
       "    </tr>\n",
       "    <tr>\n",
       "      <th>5</th>\n",
       "      <td>0</td>\n",
       "      <td>3</td>\n",
       "      <td>1</td>\n",
       "      <td>35.0</td>\n",
       "      <td>0</td>\n",
       "      <td>0</td>\n",
       "      <td>8.0500</td>\n",
       "      <td>S</td>\n",
       "    </tr>\n",
       "  </tbody>\n",
       "</table>\n",
       "</div>"
      ],
      "text/plain": [
       "             Survived  Pclass  Sex   Age  SibSp  Parch     Fare Embarked\n",
       "PassengerId                                                             \n",
       "1                   0       3    1  22.0      1      0   7.2500        S\n",
       "2                   1       1    0  38.0      1      0  71.2833        C\n",
       "3                   1       3    0  26.0      0      0   7.9250        S\n",
       "4                   1       1    0  35.0      1      0  53.1000        S\n",
       "5                   0       3    1  35.0      0      0   8.0500        S"
      ]
     },
     "execution_count": 10,
     "metadata": {},
     "output_type": "execute_result"
    }
   ],
   "source": [
    "df.head()"
   ]
  },
  {
   "cell_type": "code",
   "execution_count": 12,
   "metadata": {},
   "outputs": [
    {
     "data": {
      "text/plain": [
       "array(['S', 'C', 'Q', nan], dtype=object)"
      ]
     },
     "execution_count": 12,
     "metadata": {},
     "output_type": "execute_result"
    }
   ],
   "source": [
    "df['Embarked'].unique()"
   ]
  },
  {
   "cell_type": "code",
   "execution_count": 13,
   "metadata": {},
   "outputs": [
    {
     "data": {
      "text/plain": [
       "S    644\n",
       "C    168\n",
       "Q     77\n",
       "Name: Embarked, dtype: int64"
      ]
     },
     "execution_count": 13,
     "metadata": {},
     "output_type": "execute_result"
    }
   ],
   "source": [
    "df['Embarked'].value_counts()"
   ]
  },
  {
   "cell_type": "code",
   "execution_count": 17,
   "metadata": {
    "collapsed": true
   },
   "outputs": [],
   "source": [
    "import seaborn as sns\n",
    "import matplotlib.pyplot as plt\n",
    "%matplotlib inline"
   ]
  },
  {
   "cell_type": "code",
   "execution_count": 18,
   "metadata": {},
   "outputs": [
    {
     "data": {
      "text/plain": [
       "<matplotlib.axes._subplots.AxesSubplot at 0xbe5e7b8>"
      ]
     },
     "execution_count": 18,
     "metadata": {},
     "output_type": "execute_result"
    },
    {
     "data": {
      "image/png": "[encoded data removed]",
      "text/plain": [
       "<matplotlib.figure.Figure at 0xc2fc5c0>"
      ]
     },
     "metadata": {},
     "output_type": "display_data"
    }
   ],
   "source": [
    "sns.countplot(x=\"Embarked\",data=df)"
   ]
  },
  {
   "cell_type": "code",
   "execution_count": 19,
   "metadata": {
    "collapsed": true
   },
   "outputs": [],
   "source": [
    "df['Embarked'] = df['Embarked'].fillna('S')"
   ]
  },
  {
   "cell_type": "code",
   "execution_count": 20,
   "metadata": {},
   "outputs": [
    {
     "data": {
      "text/html": [
       "<div>\n",
       "<style>\n",
       "    .dataframe thead tr:only-child th {\n",
       "        text-align: right;\n",
       "    }\n",
       "\n",
       "    .dataframe thead th {\n",
       "        text-align: left;\n",
       "    }\n",
       "\n",
       "    .dataframe tbody tr th {\n",
       "        vertical-align: top;\n",
       "    }\n",
       "</style>\n",
       "<table border=\"1\" class=\"dataframe\">\n",
       "  <thead>\n",
       "    <tr style=\"text-align: right;\">\n",
       "      <th></th>\n",
       "      <th>Survived</th>\n",
       "      <th>Pclass</th>\n",
       "      <th>Sex</th>\n",
       "      <th>Age</th>\n",
       "      <th>SibSp</th>\n",
       "      <th>Parch</th>\n",
       "      <th>Fare</th>\n",
       "      <th>Embarked</th>\n",
       "    </tr>\n",
       "    <tr>\n",
       "      <th>PassengerId</th>\n",
       "      <th></th>\n",
       "      <th></th>\n",
       "      <th></th>\n",
       "      <th></th>\n",
       "      <th></th>\n",
       "      <th></th>\n",
       "      <th></th>\n",
       "      <th></th>\n",
       "    </tr>\n",
       "  </thead>\n",
       "  <tbody>\n",
       "    <tr>\n",
       "      <th>1</th>\n",
       "      <td>0</td>\n",
       "      <td>3</td>\n",
       "      <td>1</td>\n",
       "      <td>22.0</td>\n",
       "      <td>1</td>\n",
       "      <td>0</td>\n",
       "      <td>7.2500</td>\n",
       "      <td>0</td>\n",
       "    </tr>\n",
       "    <tr>\n",
       "      <th>2</th>\n",
       "      <td>1</td>\n",
       "      <td>1</td>\n",
       "      <td>0</td>\n",
       "      <td>38.0</td>\n",
       "      <td>1</td>\n",
       "      <td>0</td>\n",
       "      <td>71.2833</td>\n",
       "      <td>1</td>\n",
       "    </tr>\n",
       "    <tr>\n",
       "      <th>3</th>\n",
       "      <td>1</td>\n",
       "      <td>3</td>\n",
       "      <td>0</td>\n",
       "      <td>26.0</td>\n",
       "      <td>0</td>\n",
       "      <td>0</td>\n",
       "      <td>7.9250</td>\n",
       "      <td>0</td>\n",
       "    </tr>\n",
       "    <tr>\n",
       "      <th>4</th>\n",
       "      <td>1</td>\n",
       "      <td>1</td>\n",
       "      <td>0</td>\n",
       "      <td>35.0</td>\n",
       "      <td>1</td>\n",
       "      <td>0</td>\n",
       "      <td>53.1000</td>\n",
       "      <td>0</td>\n",
       "    </tr>\n",
       "    <tr>\n",
       "      <th>5</th>\n",
       "      <td>0</td>\n",
       "      <td>3</td>\n",
       "      <td>1</td>\n",
       "      <td>35.0</td>\n",
       "      <td>0</td>\n",
       "      <td>0</td>\n",
       "      <td>8.0500</td>\n",
       "      <td>0</td>\n",
       "    </tr>\n",
       "  </tbody>\n",
       "</table>\n",
       "</div>"
      ],
      "text/plain": [
       "             Survived  Pclass  Sex   Age  SibSp  Parch     Fare  Embarked\n",
       "PassengerId                                                              \n",
       "1                   0       3    1  22.0      1      0   7.2500         0\n",
       "2                   1       1    0  38.0      1      0  71.2833         1\n",
       "3                   1       3    0  26.0      0      0   7.9250         0\n",
       "4                   1       1    0  35.0      1      0  53.1000         0\n",
       "5                   0       3    1  35.0      0      0   8.0500         0"
      ]
     },
     "execution_count": 20,
     "metadata": {},
     "output_type": "execute_result"
    }
   ],
   "source": [
    "labels = df['Embarked'].unique().tolist()\n",
    "df['Embarked'] = df['Embarked'].apply(lambda n: labels.index(n))\n",
    "df.head()"
   ]
  },
  {
   "cell_type": "code",
   "execution_count": 21,
   "metadata": {},
   "outputs": [
    {
     "data": {
      "text/plain": [
       "177"
      ]
     },
     "execution_count": 21,
     "metadata": {},
     "output_type": "execute_result"
    }
   ],
   "source": [
    "df['Age'].isnull().sum()"
   ]
  },
  {
   "cell_type": "code",
   "execution_count": 25,
   "metadata": {},
   "outputs": [
    {
     "data": {
      "text/plain": [
       "<matplotlib.axes._subplots.AxesSubplot at 0xc4bfda0>"
      ]
     },
     "execution_count": 25,
     "metadata": {},
     "output_type": "execute_result"
    },
    {
     "data": {
      "image/png": "[encoded data removed]",
      "text/plain": [
       "<matplotlib.figure.Figure at 0xc4c58d0>"
      ]
     },
     "metadata": {},
     "output_type": "display_data"
    }
   ],
   "source": [
    "sns.set(style=\"darkgrid\", palette=\"muted\", color_codes=True)    \n",
    "sns.distplot(df[df['Age'].notnull()]['Age'])"
   ]
  },
  {
   "cell_type": "code",
   "execution_count": 26,
   "metadata": {},
   "outputs": [
    {
     "data": {
      "text/plain": [
       "0"
      ]
     },
     "execution_count": 26,
     "metadata": {},
     "output_type": "execute_result"
    }
   ],
   "source": [
    "df['Age'] = df['Age'].fillna(df['Age'].mean())\n",
    "df['Age'].isnull().sum()"
   ]
  },
  {
   "cell_type": "code",
   "execution_count": 27,
   "metadata": {},
   "outputs": [
    {
     "data": {
      "text/html": [
       "<div>\n",
       "<style>\n",
       "    .dataframe thead tr:only-child th {\n",
       "        text-align: right;\n",
       "    }\n",
       "\n",
       "    .dataframe thead th {\n",
       "        text-align: left;\n",
       "    }\n",
       "\n",
       "    .dataframe tbody tr th {\n",
       "        vertical-align: top;\n",
       "    }\n",
       "</style>\n",
       "<table border=\"1\" class=\"dataframe\">\n",
       "  <thead>\n",
       "    <tr style=\"text-align: right;\">\n",
       "      <th></th>\n",
       "      <th>Survived</th>\n",
       "      <th>Pclass</th>\n",
       "      <th>Sex</th>\n",
       "      <th>Age</th>\n",
       "      <th>SibSp</th>\n",
       "      <th>Parch</th>\n",
       "      <th>Fare</th>\n",
       "      <th>Embarked</th>\n",
       "    </tr>\n",
       "    <tr>\n",
       "      <th>PassengerId</th>\n",
       "      <th></th>\n",
       "      <th></th>\n",
       "      <th></th>\n",
       "      <th></th>\n",
       "      <th></th>\n",
       "      <th></th>\n",
       "      <th></th>\n",
       "      <th></th>\n",
       "    </tr>\n",
       "  </thead>\n",
       "  <tbody>\n",
       "    <tr>\n",
       "      <th>1</th>\n",
       "      <td>0</td>\n",
       "      <td>3</td>\n",
       "      <td>1</td>\n",
       "      <td>22.0</td>\n",
       "      <td>1</td>\n",
       "      <td>0</td>\n",
       "      <td>7.2500</td>\n",
       "      <td>0</td>\n",
       "    </tr>\n",
       "    <tr>\n",
       "      <th>2</th>\n",
       "      <td>1</td>\n",
       "      <td>1</td>\n",
       "      <td>0</td>\n",
       "      <td>38.0</td>\n",
       "      <td>1</td>\n",
       "      <td>0</td>\n",
       "      <td>71.2833</td>\n",
       "      <td>1</td>\n",
       "    </tr>\n",
       "    <tr>\n",
       "      <th>3</th>\n",
       "      <td>1</td>\n",
       "      <td>3</td>\n",
       "      <td>0</td>\n",
       "      <td>26.0</td>\n",
       "      <td>0</td>\n",
       "      <td>0</td>\n",
       "      <td>7.9250</td>\n",
       "      <td>0</td>\n",
       "    </tr>\n",
       "    <tr>\n",
       "      <th>4</th>\n",
       "      <td>1</td>\n",
       "      <td>1</td>\n",
       "      <td>0</td>\n",
       "      <td>35.0</td>\n",
       "      <td>1</td>\n",
       "      <td>0</td>\n",
       "      <td>53.1000</td>\n",
       "      <td>0</td>\n",
       "    </tr>\n",
       "    <tr>\n",
       "      <th>5</th>\n",
       "      <td>0</td>\n",
       "      <td>3</td>\n",
       "      <td>1</td>\n",
       "      <td>35.0</td>\n",
       "      <td>0</td>\n",
       "      <td>0</td>\n",
       "      <td>8.0500</td>\n",
       "      <td>0</td>\n",
       "    </tr>\n",
       "  </tbody>\n",
       "</table>\n",
       "</div>"
      ],
      "text/plain": [
       "             Survived  Pclass  Sex   Age  SibSp  Parch     Fare  Embarked\n",
       "PassengerId                                                              \n",
       "1                   0       3    1  22.0      1      0   7.2500         0\n",
       "2                   1       1    0  38.0      1      0  71.2833         1\n",
       "3                   1       3    0  26.0      0      0   7.9250         0\n",
       "4                   1       1    0  35.0      1      0  53.1000         0\n",
       "5                   0       3    1  35.0      0      0   8.0500         0"
      ]
     },
     "execution_count": 27,
     "metadata": {},
     "output_type": "execute_result"
    }
   ],
   "source": [
    "df.head()"
   ]
  },
  {
   "cell_type": "markdown",
   "metadata": {},
   "source": [
    "### 训练模型"
   ]
  },
  {
   "cell_type": "code",
   "execution_count": 29,
   "metadata": {},
   "outputs": [],
   "source": [
    "from sklearn.model_selection import train_test_split\n",
    "X = df.iloc[:, 1:]\n",
    "y = df['Survived']\n",
    "\n",
    "X_train, X_test, y_train, y_test = train_test_split(X, y, test_size=0.2, random_state=22)"
   ]
  },
  {
   "cell_type": "code",
   "execution_count": 30,
   "metadata": {
    "collapsed": true
   },
   "outputs": [],
   "source": [
    "from sklearn.tree import DecisionTreeClassifier"
   ]
  },
  {
   "cell_type": "code",
   "execution_count": 31,
   "metadata": {},
   "outputs": [
    {
     "data": {
      "text/plain": [
       "DecisionTreeClassifier(class_weight=None, criterion='gini', max_depth=None,\n",
       "            max_features=None, max_leaf_nodes=None,\n",
       "            min_impurity_decrease=0.0, min_impurity_split=None,\n",
       "            min_samples_leaf=1, min_samples_split=2,\n",
       "            min_weight_fraction_leaf=0.0, presort=False, random_state=None,\n",
       "            splitter='best')"
      ]
     },
     "execution_count": 31,
     "metadata": {},
     "output_type": "execute_result"
    }
   ],
   "source": [
    "clf = DecisionTreeClassifier()\n",
    "clf.fit(X_train, y_train)"
   ]
  },
  {
   "cell_type": "code",
   "execution_count": 32,
   "metadata": {},
   "outputs": [
    {
     "data": {
      "text/plain": [
       "0.82122905027932958"
      ]
     },
     "execution_count": 32,
     "metadata": {},
     "output_type": "execute_result"
    }
   ],
   "source": [
    "clf.score(X_test, y_test)"
   ]
  },
  {
   "cell_type": "markdown",
   "metadata": {},
   "source": [
    "### 交叉验证"
   ]
  },
  {
   "cell_type": "code",
   "execution_count": 33,
   "metadata": {},
   "outputs": [
    {
     "name": "stdout",
     "output_type": "stream",
     "text": [
      "0.772279536942\n"
     ]
    }
   ],
   "source": [
    "from sklearn.model_selection import cross_val_score\n",
    "\n",
    "result = cross_val_score(clf, X, y, cv=10)\n",
    "print(result.mean())"
   ]
  },
  {
   "cell_type": "markdown",
   "metadata": {},
   "source": [
    "### 优化参数"
   ]
  },
  {
   "cell_type": "code",
   "execution_count": 34,
   "metadata": {},
   "outputs": [
    {
     "name": "stdout",
     "output_type": "stream",
     "text": [
      "best param: 11; best score: 0.8212290502793296\n"
     ]
    },
    {
     "data": {
      "text/plain": [
       "<matplotlib.legend.Legend at 0xca0d2b0>"
      ]
     },
     "execution_count": 34,
     "metadata": {},
     "output_type": "execute_result"
    },
    {
     "data": {
      "image/png": "[encoded data removed]",
      "text/plain": [
       "<matplotlib.figure.Figure at 0xca03e48>"
      ]
     },
     "metadata": {},
     "output_type": "display_data"
    }
   ],
   "source": [
    "def cv_score(d):\n",
    "    clf = DecisionTreeClassifier(max_depth=d)\n",
    "    clf.fit(X_train, y_train)\n",
    "    tr_score = clf.score(X_train, y_train)\n",
    "    cv_score = clf.score(X_test, y_test)\n",
    "    return (tr_score, cv_score)\n",
    "\n",
    "depths = range(2, 15)\n",
    "scores = [cv_score(d) for d in depths]\n",
    "tr_scores = [s[0] for s in scores]\n",
    "cv_scores = [s[1] for s in scores]\n",
    "\n",
    "best_score_index = np.argmax(cv_scores)\n",
    "best_score = cv_scores[best_score_index]\n",
    "best_param = depths[best_score_index]\n",
    "print('best param: {0}; best score: {1}'.format(best_param, best_score))\n",
    "\n",
    "plt.figure(figsize=(10, 6), dpi=144)\n",
    "plt.grid()\n",
    "plt.xlabel('max depth of decision tree')\n",
    "plt.ylabel('score')\n",
    "plt.plot(depths, cv_scores, '.g-', label='cross-validation score')\n",
    "plt.plot(depths, tr_scores, '.r--', label='training score')\n",
    "plt.legend()"
   ]
  },
  {
   "cell_type": "markdown",
   "metadata": {},
   "source": [
    "### gridsearchcv"
   ]
  },
  {
   "cell_type": "code",
   "execution_count": 43,
   "metadata": {},
   "outputs": [
    {
     "data": {
      "text/plain": [
       "GridSearchCV(cv=5, error_score='raise',\n",
       "       estimator=DecisionTreeClassifier(class_weight=None, criterion='gini', max_depth=None,\n",
       "            max_features=None, max_leaf_nodes=None,\n",
       "            min_impurity_decrease=0.0, min_impurity_split=None,\n",
       "            min_samples_leaf=1, min_samples_split=2,\n",
       "            min_weight_fraction_leaf=0.0, presort=False, random_state=None,\n",
       "            splitter='best'),\n",
       "       fit_params=None, iid=True, n_jobs=1,\n",
       "       param_grid={'min_impurity_decrease': array([ 0.     ,  0.0102 ,  0.02041,  0.03061,  0.04082,  0.05102,\n",
       "        0.06122,  0.07143,  0.08163,  0.09184,  0.10204,  0.11224,\n",
       "        0.12245,  0.13265,  0.14286,  0.15306,  0.16327,  0.17347,\n",
       "        0.18367,  0.19388,  0.20408,  0.21429,  0.22449,  0.23...837,\n",
       "        0.42857,  0.43878,  0.44898,  0.45918,  0.46939,  0.47959,\n",
       "        0.4898 ,  0.5    ])},\n",
       "       pre_dispatch='2*n_jobs', refit=True, return_train_score='warn',\n",
       "       scoring=None, verbose=0)"
      ]
     },
     "execution_count": 43,
     "metadata": {},
     "output_type": "execute_result"
    }
   ],
   "source": [
    "from sklearn.model_selection import GridSearchCV\n",
    "threshholds = np.linspace(0, 0.5, 50)\n",
    "param_grid = {'min_impurity_decrease':threshholds}\n",
    "\n",
    "clf = GridSearchCV(DecisionTreeClassifier(), param_grid, cv=5)\n",
    "clf.fit(X, y)"
   ]
  },
  {
   "cell_type": "code",
   "execution_count": 44,
   "metadata": {},
   "outputs": [
    {
     "name": "stdout",
     "output_type": "stream",
     "text": [
      "best param: {'min_impurity_decrease': 0.01020408163265306}\n",
      "best score: 0.7968574635241302\n"
     ]
    }
   ],
   "source": [
    "print(\"best param: {0}\\nbest score: {1}\".format(clf.best_params_, \n",
    "                                                clf.best_score_))"
   ]
  },
  {
   "cell_type": "code",
   "execution_count": 45,
   "metadata": {},
   "outputs": [
    {
     "name": "stdout",
     "output_type": "stream",
     "text": [
      "{'mean_fit_time': array([ 0.00400019,  0.00280018,  0.00180001,  0.01640086,  0.0012001 ,\n",
      "        0.00200014,  0.00180001,  0.0012001 ,  0.00160003,  0.00100002,\n",
      "        0.00160012,  0.00160007,  0.00180011,  0.00180011,  0.00160007,\n",
      "        0.00140018,  0.00180016,  0.00200009,  0.00160012,  0.00160003,\n",
      "        0.00200009,  0.00180016,  0.00099998,  0.00100002,  0.00099998,\n",
      "        0.00140004,  0.00180016,  0.00140004,  0.00100007,  0.00140004,\n",
      "        0.0012001 ,  0.00200014,  0.00100002,  0.00140009,  0.00120001,\n",
      "        0.00140018,  0.00200009,  0.0012001 ,  0.00160007,  0.00120006,\n",
      "        0.00140004,  0.00140014,  0.00100002,  0.00140014,  0.00100012,\n",
      "        0.00160017,  0.0012001 ,  0.00100002,  0.00100002,  0.00119996]), 'std_fit_time': array([  1.09562690e-03,   7.48379208e-04,   4.00042545e-04,\n",
      "         2.98050573e-02,   3.99994861e-04,   9.53674316e-08,\n",
      "         4.00042545e-04,   3.99994889e-04,   8.00073159e-04,\n",
      "         1.16800773e-07,   4.89959789e-04,   4.89920847e-04,\n",
      "         3.99971008e-04,   4.00090228e-04,   4.89920847e-04,\n",
      "         4.89823515e-04,   4.00114074e-04,   1.50789149e-07,\n",
      "         4.89862464e-04,   4.89979265e-04,   0.00000000e+00,\n",
      "         3.99994861e-04,   9.53674316e-08,   1.16800773e-07,\n",
      "         9.53674316e-08,   4.89940339e-04,   3.99994861e-04,\n",
      "         4.89842988e-04,   1.16800773e-07,   4.89940316e-04,\n",
      "         3.99994861e-04,   9.53674316e-08,   1.16800773e-07,\n",
      "         4.89901382e-04,   4.00042545e-04,   4.89920871e-04,\n",
      "         1.50789149e-07,   3.99994861e-04,   4.90018183e-04,\n",
      "         4.00018706e-04,   4.89842988e-04,   4.89862464e-04,\n",
      "         1.16800773e-07,   4.89862441e-04,   1.78416128e-07,\n",
      "         4.89901382e-04,   3.99994861e-04,   1.16800773e-07,\n",
      "         1.16800773e-07,   4.00066376e-04]), 'mean_score_time': array([ 0.00100007,  0.00100002,  0.0006001 ,  0.00040007,  0.00079999,\n",
      "        0.        ,  0.        ,  0.0006001 ,  0.00060005,  0.00100002,\n",
      "        0.00040002,  0.00040002,  0.00040002,  0.00019999,  0.00040002,\n",
      "        0.00019999,  0.00019999,  0.        ,  0.        ,  0.        ,\n",
      "        0.        ,  0.        ,  0.        ,  0.00100002,  0.00100017,\n",
      "        0.0006    ,  0.00019999,  0.0006    ,  0.00080004,  0.00020003,\n",
      "        0.00080004,  0.        ,  0.00080004,  0.        ,  0.00080009,\n",
      "        0.00019999,  0.        ,  0.00040007,  0.        ,  0.00080009,\n",
      "        0.00019999,  0.0006    ,  0.0006    ,  0.        ,  0.00080004,\n",
      "        0.00039997,  0.        ,  0.00040002,  0.00080004,  0.00080013]), 'std_score_time': array([  1.16800773e-07,   6.32409703e-04,   4.89979242e-04,\n",
      "         4.89979242e-04,   3.99994861e-04,   0.00000000e+00,\n",
      "         0.00000000e+00,   4.89979242e-04,   4.89940316e-04,\n",
      "         1.16800773e-07,   4.89920847e-04,   4.89920847e-04,\n",
      "         4.89920847e-04,   3.99971008e-04,   4.89920847e-04,\n",
      "         3.99971008e-04,   3.99971008e-04,   0.00000000e+00,\n",
      "         0.00000000e+00,   0.00000000e+00,   0.00000000e+00,\n",
      "         0.00000000e+00,   0.00000000e+00,   1.16800773e-07,\n",
      "         1.50789149e-07,   4.89901382e-04,   3.99971008e-04,\n",
      "         4.89901382e-04,   4.00018735e-04,   4.00066376e-04,\n",
      "         4.00018735e-04,   0.00000000e+00,   4.00018706e-04,\n",
      "         0.00000000e+00,   4.00042545e-04,   3.99971008e-04,\n",
      "         0.00000000e+00,   4.89979242e-04,   0.00000000e+00,\n",
      "         4.00042573e-04,   3.99971008e-04,   4.89901382e-04,\n",
      "         4.89901382e-04,   0.00000000e+00,   4.00018706e-04,\n",
      "         4.89862441e-04,   0.00000000e+00,   4.89920847e-04,\n",
      "         4.00018706e-04,   4.00066404e-04]), 'param_min_impurity_decrease': masked_array(data = [0.0 0.01020408163265306 0.020408163265306121 0.030612244897959183\n",
      " 0.040816326530612242 0.0510204081632653 0.061224489795918366\n",
      " 0.071428571428571425 0.081632653061224483 0.091836734693877542\n",
      " 0.1020408163265306 0.11224489795918366 0.12244897959183673\n",
      " 0.13265306122448978 0.14285714285714285 0.15306122448979589\n",
      " 0.16326530612244897 0.17346938775510204 0.18367346938775508\n",
      " 0.19387755102040816 0.2040816326530612 0.21428571428571427\n",
      " 0.22448979591836732 0.23469387755102039 0.24489795918367346\n",
      " 0.25510204081632654 0.26530612244897955 0.27551020408163263\n",
      " 0.2857142857142857 0.29591836734693877 0.30612244897959179\n",
      " 0.31632653061224486 0.32653061224489793 0.33673469387755101\n",
      " 0.34693877551020408 0.3571428571428571 0.36734693877551017\n",
      " 0.37755102040816324 0.38775510204081631 0.39795918367346933\n",
      " 0.4081632653061224 0.41836734693877548 0.42857142857142855\n",
      " 0.43877551020408162 0.44897959183673464 0.45918367346938771\n",
      " 0.46938775510204078 0.47959183673469385 0.48979591836734693 0.5],\n",
      "             mask = [False False False False False False False False False False False False\n",
      " False False False False False False False False False False False False\n",
      " False False False False False False False False False False False False\n",
      " False False False False False False False False False False False False\n",
      " False False],\n",
      "       fill_value = ?)\n",
      ", 'params': [{'min_impurity_decrease': 0.0}, {'min_impurity_decrease': 0.01020408163265306}, {'min_impurity_decrease': 0.020408163265306121}, {'min_impurity_decrease': 0.030612244897959183}, {'min_impurity_decrease': 0.040816326530612242}, {'min_impurity_decrease': 0.0510204081632653}, {'min_impurity_decrease': 0.061224489795918366}, {'min_impurity_decrease': 0.071428571428571425}, {'min_impurity_decrease': 0.081632653061224483}, {'min_impurity_decrease': 0.091836734693877542}, {'min_impurity_decrease': 0.1020408163265306}, {'min_impurity_decrease': 0.11224489795918366}, {'min_impurity_decrease': 0.12244897959183673}, {'min_impurity_decrease': 0.13265306122448978}, {'min_impurity_decrease': 0.14285714285714285}, {'min_impurity_decrease': 0.15306122448979589}, {'min_impurity_decrease': 0.16326530612244897}, {'min_impurity_decrease': 0.17346938775510204}, {'min_impurity_decrease': 0.18367346938775508}, {'min_impurity_decrease': 0.19387755102040816}, {'min_impurity_decrease': 0.2040816326530612}, {'min_impurity_decrease': 0.21428571428571427}, {'min_impurity_decrease': 0.22448979591836732}, {'min_impurity_decrease': 0.23469387755102039}, {'min_impurity_decrease': 0.24489795918367346}, {'min_impurity_decrease': 0.25510204081632654}, {'min_impurity_decrease': 0.26530612244897955}, {'min_impurity_decrease': 0.27551020408163263}, {'min_impurity_decrease': 0.2857142857142857}, {'min_impurity_decrease': 0.29591836734693877}, {'min_impurity_decrease': 0.30612244897959179}, {'min_impurity_decrease': 0.31632653061224486}, {'min_impurity_decrease': 0.32653061224489793}, {'min_impurity_decrease': 0.33673469387755101}, {'min_impurity_decrease': 0.34693877551020408}, {'min_impurity_decrease': 0.3571428571428571}, {'min_impurity_decrease': 0.36734693877551017}, {'min_impurity_decrease': 0.37755102040816324}, {'min_impurity_decrease': 0.38775510204081631}, {'min_impurity_decrease': 0.39795918367346933}, {'min_impurity_decrease': 0.4081632653061224}, {'min_impurity_decrease': 0.41836734693877548}, {'min_impurity_decrease': 0.42857142857142855}, {'min_impurity_decrease': 0.43877551020408162}, {'min_impurity_decrease': 0.44897959183673464}, {'min_impurity_decrease': 0.45918367346938771}, {'min_impurity_decrease': 0.46938775510204078}, {'min_impurity_decrease': 0.47959183673469385}, {'min_impurity_decrease': 0.48979591836734693}, {'min_impurity_decrease': 0.5}], 'split0_test_score': array([ 0.73184358,  0.82122905,  0.74860335,  0.74860335,  0.74860335,\n",
      "        0.80446927,  0.80446927,  0.80446927,  0.80446927,  0.80446927,\n",
      "        0.80446927,  0.80446927,  0.80446927,  0.80446927,  0.61452514,\n",
      "        0.61452514,  0.61452514,  0.61452514,  0.61452514,  0.61452514,\n",
      "        0.61452514,  0.61452514,  0.61452514,  0.61452514,  0.61452514,\n",
      "        0.61452514,  0.61452514,  0.61452514,  0.61452514,  0.61452514,\n",
      "        0.61452514,  0.61452514,  0.61452514,  0.61452514,  0.61452514,\n",
      "        0.61452514,  0.61452514,  0.61452514,  0.61452514,  0.61452514,\n",
      "        0.61452514,  0.61452514,  0.61452514,  0.61452514,  0.61452514,\n",
      "        0.61452514,  0.61452514,  0.61452514,  0.61452514,  0.61452514]), 'split1_test_score': array([ 0.79329609,  0.81564246,  0.79329609,  0.79329609,  0.80446927,\n",
      "        0.80446927,  0.80446927,  0.80446927,  0.80446927,  0.80446927,\n",
      "        0.80446927,  0.80446927,  0.80446927,  0.80446927,  0.61452514,\n",
      "        0.61452514,  0.61452514,  0.61452514,  0.61452514,  0.61452514,\n",
      "        0.61452514,  0.61452514,  0.61452514,  0.61452514,  0.61452514,\n",
      "        0.61452514,  0.61452514,  0.61452514,  0.61452514,  0.61452514,\n",
      "        0.61452514,  0.61452514,  0.61452514,  0.61452514,  0.61452514,\n",
      "        0.61452514,  0.61452514,  0.61452514,  0.61452514,  0.61452514,\n",
      "        0.61452514,  0.61452514,  0.61452514,  0.61452514,  0.61452514,\n",
      "        0.61452514,  0.61452514,  0.61452514,  0.61452514,  0.61452514]), 'split2_test_score': array([ 0.78089888,  0.80898876,  0.78651685,  0.78651685,  0.78651685,\n",
      "        0.78651685,  0.78651685,  0.78651685,  0.78651685,  0.78651685,\n",
      "        0.78651685,  0.78651685,  0.78651685,  0.78651685,  0.61797753,\n",
      "        0.61797753,  0.61797753,  0.61797753,  0.61797753,  0.61797753,\n",
      "        0.61797753,  0.61797753,  0.61797753,  0.61797753,  0.61797753,\n",
      "        0.61797753,  0.61797753,  0.61797753,  0.61797753,  0.61797753,\n",
      "        0.61797753,  0.61797753,  0.61797753,  0.61797753,  0.61797753,\n",
      "        0.61797753,  0.61797753,  0.61797753,  0.61797753,  0.61797753,\n",
      "        0.61797753,  0.61797753,  0.61797753,  0.61797753,  0.61797753,\n",
      "        0.61797753,  0.61797753,  0.61797753,  0.61797753,  0.61797753]), 'split3_test_score': array([ 0.75280899,  0.75280899,  0.75280899,  0.75280899,  0.75280899,\n",
      "        0.75280899,  0.75280899,  0.75280899,  0.75280899,  0.75280899,\n",
      "        0.75280899,  0.75280899,  0.75280899,  0.75280899,  0.75280899,\n",
      "        0.61797753,  0.61797753,  0.61797753,  0.61797753,  0.61797753,\n",
      "        0.61797753,  0.61797753,  0.61797753,  0.61797753,  0.61797753,\n",
      "        0.61797753,  0.61797753,  0.61797753,  0.61797753,  0.61797753,\n",
      "        0.61797753,  0.61797753,  0.61797753,  0.61797753,  0.61797753,\n",
      "        0.61797753,  0.61797753,  0.61797753,  0.61797753,  0.61797753,\n",
      "        0.61797753,  0.61797753,  0.61797753,  0.61797753,  0.61797753,\n",
      "        0.61797753,  0.61797753,  0.61797753,  0.61797753,  0.61797753]), 'split4_test_score': array([ 0.81920904,  0.78531073,  0.78531073,  0.78531073,  0.78531073,\n",
      "        0.78531073,  0.78531073,  0.78531073,  0.78531073,  0.78531073,\n",
      "        0.78531073,  0.78531073,  0.78531073,  0.78531073,  0.61581921,\n",
      "        0.61581921,  0.61581921,  0.61581921,  0.61581921,  0.61581921,\n",
      "        0.61581921,  0.61581921,  0.61581921,  0.61581921,  0.61581921,\n",
      "        0.61581921,  0.61581921,  0.61581921,  0.61581921,  0.61581921,\n",
      "        0.61581921,  0.61581921,  0.61581921,  0.61581921,  0.61581921,\n",
      "        0.61581921,  0.61581921,  0.61581921,  0.61581921,  0.61581921,\n",
      "        0.61581921,  0.61581921,  0.61581921,  0.61581921,  0.61581921,\n",
      "        0.61581921,  0.61581921,  0.61581921,  0.61581921,  0.61581921]), 'mean_test_score': array([ 0.77553311,  0.79685746,  0.77328844,  0.77328844,  0.77553311,\n",
      "        0.78675645,  0.78675645,  0.78675645,  0.78675645,  0.78675645,\n",
      "        0.78675645,  0.78675645,  0.78675645,  0.78675645,  0.64309764,\n",
      "        0.61616162,  0.61616162,  0.61616162,  0.61616162,  0.61616162,\n",
      "        0.61616162,  0.61616162,  0.61616162,  0.61616162,  0.61616162,\n",
      "        0.61616162,  0.61616162,  0.61616162,  0.61616162,  0.61616162,\n",
      "        0.61616162,  0.61616162,  0.61616162,  0.61616162,  0.61616162,\n",
      "        0.61616162,  0.61616162,  0.61616162,  0.61616162,  0.61616162,\n",
      "        0.61616162,  0.61616162,  0.61616162,  0.61616162,  0.61616162,\n",
      "        0.61616162,  0.61616162,  0.61616162,  0.61616162,  0.61616162]), 'std_test_score': array([ 0.03057316,  0.02517389,  0.01871623,  0.01871623,  0.02145134,\n",
      "        0.0188869 ,  0.0188869 ,  0.0188869 ,  0.0188869 ,  0.0188869 ,\n",
      "        0.0188869 ,  0.0188869 ,  0.0188869 ,  0.0188869 ,  0.05483173,\n",
      "        0.00155462,  0.00155462,  0.00155462,  0.00155462,  0.00155462,\n",
      "        0.00155462,  0.00155462,  0.00155462,  0.00155462,  0.00155462,\n",
      "        0.00155462,  0.00155462,  0.00155462,  0.00155462,  0.00155462,\n",
      "        0.00155462,  0.00155462,  0.00155462,  0.00155462,  0.00155462,\n",
      "        0.00155462,  0.00155462,  0.00155462,  0.00155462,  0.00155462,\n",
      "        0.00155462,  0.00155462,  0.00155462,  0.00155462,  0.00155462,\n",
      "        0.00155462,  0.00155462,  0.00155462,  0.00155462,  0.00155462]), 'rank_test_score': array([11,  1, 13, 13, 11,  2,  2,  2,  2,  2,  2,  2,  2,  2, 15, 16, 16,\n",
      "       16, 16, 16, 16, 16, 16, 16, 16, 16, 16, 16, 16, 16, 16, 16, 16, 16,\n",
      "       16, 16, 16, 16, 16, 16, 16, 16, 16, 16, 16, 16, 16, 16, 16, 16]), 'split0_train_score': array([ 0.98455056,  0.82303371,  0.79634831,  0.79634831,  0.79634831,\n",
      "        0.78230337,  0.78230337,  0.78230337,  0.78230337,  0.78230337,\n",
      "        0.78230337,  0.78230337,  0.78230337,  0.78230337,  0.61657303,\n",
      "        0.61657303,  0.61657303,  0.61657303,  0.61657303,  0.61657303,\n",
      "        0.61657303,  0.61657303,  0.61657303,  0.61657303,  0.61657303,\n",
      "        0.61657303,  0.61657303,  0.61657303,  0.61657303,  0.61657303,\n",
      "        0.61657303,  0.61657303,  0.61657303,  0.61657303,  0.61657303,\n",
      "        0.61657303,  0.61657303,  0.61657303,  0.61657303,  0.61657303,\n",
      "        0.61657303,  0.61657303,  0.61657303,  0.61657303,  0.61657303,\n",
      "        0.61657303,  0.61657303,  0.61657303,  0.61657303,  0.61657303]), 'split1_train_score': array([ 0.98735955,  0.82303371,  0.78511236,  0.78511236,  0.78230337,\n",
      "        0.78230337,  0.78230337,  0.78230337,  0.78230337,  0.78230337,\n",
      "        0.78230337,  0.78230337,  0.78230337,  0.78230337,  0.61657303,\n",
      "        0.61657303,  0.61657303,  0.61657303,  0.61657303,  0.61657303,\n",
      "        0.61657303,  0.61657303,  0.61657303,  0.61657303,  0.61657303,\n",
      "        0.61657303,  0.61657303,  0.61657303,  0.61657303,  0.61657303,\n",
      "        0.61657303,  0.61657303,  0.61657303,  0.61657303,  0.61657303,\n",
      "        0.61657303,  0.61657303,  0.61657303,  0.61657303,  0.61657303,\n",
      "        0.61657303,  0.61657303,  0.61657303,  0.61657303,  0.61657303,\n",
      "        0.61657303,  0.61657303,  0.61657303,  0.61657303,  0.61657303]), 'split2_train_score': array([ 0.98457223,  0.82187938,  0.78681627,  0.78681627,  0.78681627,\n",
      "        0.78681627,  0.78681627,  0.78681627,  0.78681627,  0.78681627,\n",
      "        0.78681627,  0.78681627,  0.78681627,  0.78681627,  0.61570827,\n",
      "        0.61570827,  0.61570827,  0.61570827,  0.61570827,  0.61570827,\n",
      "        0.61570827,  0.61570827,  0.61570827,  0.61570827,  0.61570827,\n",
      "        0.61570827,  0.61570827,  0.61570827,  0.61570827,  0.61570827,\n",
      "        0.61570827,  0.61570827,  0.61570827,  0.61570827,  0.61570827,\n",
      "        0.61570827,  0.61570827,  0.61570827,  0.61570827,  0.61570827,\n",
      "        0.61570827,  0.61570827,  0.61570827,  0.61570827,  0.61570827,\n",
      "        0.61570827,  0.61570827,  0.61570827,  0.61570827,  0.61570827]), 'split3_train_score': array([ 0.98457223,  0.81626928,  0.79523142,  0.79523142,  0.79523142,\n",
      "        0.79523142,  0.79523142,  0.79523142,  0.79523142,  0.79523142,\n",
      "        0.79523142,  0.79523142,  0.79523142,  0.79523142,  0.79523142,\n",
      "        0.61570827,  0.61570827,  0.61570827,  0.61570827,  0.61570827,\n",
      "        0.61570827,  0.61570827,  0.61570827,  0.61570827,  0.61570827,\n",
      "        0.61570827,  0.61570827,  0.61570827,  0.61570827,  0.61570827,\n",
      "        0.61570827,  0.61570827,  0.61570827,  0.61570827,  0.61570827,\n",
      "        0.61570827,  0.61570827,  0.61570827,  0.61570827,  0.61570827,\n",
      "        0.61570827,  0.61570827,  0.61570827,  0.61570827,  0.61570827,\n",
      "        0.61570827,  0.61570827,  0.61570827,  0.61570827,  0.61570827]), 'split4_train_score': array([ 0.98179272,  0.78711485,  0.78711485,  0.78711485,  0.78711485,\n",
      "        0.78711485,  0.78711485,  0.78711485,  0.78711485,  0.78711485,\n",
      "        0.78711485,  0.78711485,  0.78711485,  0.78711485,  0.6162465 ,\n",
      "        0.6162465 ,  0.6162465 ,  0.6162465 ,  0.6162465 ,  0.6162465 ,\n",
      "        0.6162465 ,  0.6162465 ,  0.6162465 ,  0.6162465 ,  0.6162465 ,\n",
      "        0.6162465 ,  0.6162465 ,  0.6162465 ,  0.6162465 ,  0.6162465 ,\n",
      "        0.6162465 ,  0.6162465 ,  0.6162465 ,  0.6162465 ,  0.6162465 ,\n",
      "        0.6162465 ,  0.6162465 ,  0.6162465 ,  0.6162465 ,  0.6162465 ,\n",
      "        0.6162465 ,  0.6162465 ,  0.6162465 ,  0.6162465 ,  0.6162465 ,\n",
      "        0.6162465 ,  0.6162465 ,  0.6162465 ,  0.6162465 ,  0.6162465 ]), 'mean_train_score': array([ 0.98456946,  0.81426619,  0.79012464,  0.79012464,  0.78956284,\n",
      "        0.78675385,  0.78675385,  0.78675385,  0.78675385,  0.78675385,\n",
      "        0.78675385,  0.78675385,  0.78675385,  0.78675385,  0.65206645,\n",
      "        0.61616182,  0.61616182,  0.61616182,  0.61616182,  0.61616182,\n",
      "        0.61616182,  0.61616182,  0.61616182,  0.61616182,  0.61616182,\n",
      "        0.61616182,  0.61616182,  0.61616182,  0.61616182,  0.61616182,\n",
      "        0.61616182,  0.61616182,  0.61616182,  0.61616182,  0.61616182,\n",
      "        0.61616182,  0.61616182,  0.61616182,  0.61616182,  0.61616182,\n",
      "        0.61616182,  0.61616182,  0.61616182,  0.61616182,  0.61616182,\n",
      "        0.61616182,  0.61616182,  0.61616182,  0.61616182,  0.61616182]), 'std_train_score': array([ 0.00176041,  0.01380512,  0.00468915,  0.00468915,  0.00537423,\n",
      "        0.00472476,  0.00472476,  0.00472476,  0.00472476,  0.00472476,\n",
      "        0.00472476,  0.00472476,  0.00472476,  0.00472476,  0.07158318,\n",
      "        0.00038904,  0.00038904,  0.00038904,  0.00038904,  0.00038904,\n",
      "        0.00038904,  0.00038904,  0.00038904,  0.00038904,  0.00038904,\n",
      "        0.00038904,  0.00038904,  0.00038904,  0.00038904,  0.00038904,\n",
      "        0.00038904,  0.00038904,  0.00038904,  0.00038904,  0.00038904,\n",
      "        0.00038904,  0.00038904,  0.00038904,  0.00038904,  0.00038904,\n",
      "        0.00038904,  0.00038904,  0.00038904,  0.00038904,  0.00038904,\n",
      "        0.00038904,  0.00038904,  0.00038904,  0.00038904,  0.00038904])}\n"
     ]
    }
   ],
   "source": [
    "print(clf.cv_results_)"
   ]
  },
  {
   "cell_type": "code",
   "execution_count": 46,
   "metadata": {
    "collapsed": true
   },
   "outputs": [],
   "source": [
    "def plot_curve(train_sizes, cv_results, xlabel):\n",
    "    train_scores_mean = cv_results['mean_train_score']\n",
    "    train_scores_std = cv_results['std_train_score']\n",
    "    test_scores_mean = cv_results['mean_test_score']\n",
    "    test_scores_std = cv_results['std_test_score']\n",
    "    plt.figure(figsize=(10, 6), dpi=144)\n",
    "    plt.title('parameters turning')\n",
    "    plt.xlabel(xlabel)\n",
    "    plt.ylabel('score')\n",
    "    plt.fill_between(train_sizes, \n",
    "                     train_scores_mean - train_scores_std,\n",
    "                     train_scores_mean + train_scores_std, \n",
    "                     alpha=0.1, color=\"r\")\n",
    "    plt.fill_between(train_sizes, \n",
    "                     test_scores_mean - test_scores_std,\n",
    "                     test_scores_mean + test_scores_std, \n",
    "                     alpha=0.1, color=\"g\")\n",
    "    plt.plot(train_sizes, train_scores_mean, '.--', color=\"r\",\n",
    "             label=\"Training score\")\n",
    "    plt.plot(train_sizes, test_scores_mean, '.-', color=\"g\",\n",
    "             label=\"Cross-validation score\")\n",
    "\n",
    "    plt.legend(loc=\"best\")"
   ]
  },
  {
   "cell_type": "code",
   "execution_count": 42,
   "metadata": {},
   "outputs": [
    {
     "name": "stderr",
     "output_type": "stream",
     "text": [
      "F:\\Anaconda\\envs\\data-analysis\\lib\\site-packages\\sklearn\\utils\\deprecation.py:122: FutureWarning: You are accessing a training score ('mean_train_score'), which will not be available by default any more in 0.21. If you need training scores, please set return_train_score=True\n",
      "  warnings.warn(*warn_args, **warn_kwargs)\n",
      "F:\\Anaconda\\envs\\data-analysis\\lib\\site-packages\\sklearn\\utils\\deprecation.py:122: FutureWarning: You are accessing a training score ('std_train_score'), which will not be available by default any more in 0.21. If you need training scores, please set return_train_score=True\n",
      "  warnings.warn(*warn_args, **warn_kwargs)\n"
     ]
    },
    {
     "data": {
      "image/png": "[encoded data removed]",
      "text/plain": [
       "<matplotlib.figure.Figure at 0xccf0cc0>"
      ]
     },
     "metadata": {},
     "output_type": "display_data"
    }
   ],
   "source": [
    "plot_curve(threshholds, clf.cv_results_, xlabel='gini thresholds')"
   ]
  },
  {
   "cell_type": "code",
   "execution_count": 47,
   "metadata": {},
   "outputs": [
    {
     "data": {
      "text/plain": [
       "GridSearchCV(cv=5, error_score='raise',\n",
       "       estimator=DecisionTreeClassifier(class_weight=None, criterion='gini', max_depth=None,\n",
       "            max_features=None, max_leaf_nodes=None,\n",
       "            min_impurity_decrease=0.0, min_impurity_split=None,\n",
       "            min_samples_leaf=1, min_samples_split=2,\n",
       "            min_weight_fraction_leaf=0.0, presort=False, random_state=None,\n",
       "            splitter='best'),\n",
       "       fit_params=None, iid=True, n_jobs=1,\n",
       "       param_grid={'criterion': ['gini', 'entropy'], 'min_impurity_decrease': array([ 0.     ,  0.0102 ,  0.02041,  0.03061,  0.04082,  0.05102,\n",
       "        0.06122,  0.07143,  0.08163,  0.09184,  0.10204,  0.11224,\n",
       "        0.12245,  0.13265,  0.14286,  0.15306,  0.16327,  0.17347,\n",
       "        0.18367,  0.19388,  ...878,  0.44898,  0.45918,  0.46939,  0.47959,\n",
       "        0.4898 ,  0.5    ]), 'max_depth': range(2, 15)},\n",
       "       pre_dispatch='2*n_jobs', refit=True, return_train_score='warn',\n",
       "       scoring=None, verbose=0)"
      ]
     },
     "execution_count": 47,
     "metadata": {},
     "output_type": "execute_result"
    }
   ],
   "source": [
    "threshholds = np.linspace(0, 0.5, 50)\n",
    "param_grid = {'criterion':['gini', 'entropy'],\n",
    "              'min_impurity_decrease':threshholds,\n",
    "             'max_depth':range(2, 15)}\n",
    "\n",
    "clf = GridSearchCV(DecisionTreeClassifier(), param_grid, cv=5)\n",
    "clf.fit(X, y)"
   ]
  },
  {
   "cell_type": "code",
   "execution_count": 48,
   "metadata": {},
   "outputs": [
    {
     "name": "stdout",
     "output_type": "stream",
     "text": [
      "best param: {'criterion': 'entropy', 'max_depth': 8, 'min_impurity_decrease': 0.0}\n",
      "best score: 0.8204264870931538\n"
     ]
    }
   ],
   "source": [
    "print(\"best param: {0}\\nbest score: {1}\".format(clf.best_params_, \n",
    "                                                clf.best_score_))"
   ]
  },
  {
   "cell_type": "code",
   "execution_count": null,
   "metadata": {
    "collapsed": true
   },
   "outputs": [],
   "source": []
  }
 ],
 "metadata": {
  "kernelspec": {
   "display_name": "Python 3",
   "language": "python",
   "name": "python3"
  },
  "language_info": {
   "codemirror_mode": {
    "name": "ipython",
    "version": 3
   },
   "file_extension": ".py",
   "mimetype": "text/x-python",
   "name": "python",
   "nbconvert_exporter": "python",
   "pygments_lexer": "ipython3",
   "version": "3.6.3"
  }
 },
 "nbformat": 4,
 "nbformat_minor": 2
}
